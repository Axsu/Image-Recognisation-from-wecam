{
 "cells": [
  {
   "cell_type": "code",
   "execution_count": 8,
   "metadata": {},
   "outputs": [],
   "source": [
    "from tkinter import *\n",
    "# by Canvas I can't save image, so i use PIL\n",
    "import PIL\n",
    "from PIL import Image, ImageDraw\n",
    "\n",
    "\n",
    "def save():\n",
    "    filename = 'image.png'\n",
    "    image1.save(filename)\n",
    "\n",
    "def paint(event):\n",
    "    x1, y1 = (event.x), (event.y)\n",
    "    x2, y2 = (event.x + 1), (event.y + 1)\n",
    "    cv.create_oval((x1, y1, x2, y2), fill='black', width=10)\n",
    "    #  --- PIL\n",
    "    draw.line((x1, y1, x2, y2), fill='black', width=10)\n",
    "\n",
    "\n",
    "root = Tk()\n",
    "\n",
    "cv = Canvas(root, width=640, height=480, bg='white')\n",
    "# --- PIL\n",
    "image1 = PIL.Image.new('RGB', (640, 480), 'white')\n",
    "draw = ImageDraw.Draw(image1)\n",
    "# ---- \n",
    "cv.bind('<B1-Motion>', paint)\n",
    "cv.pack(expand=YES, fill=BOTH)\n",
    "\n",
    "btn_save = Button(text=\"save\", command=save)\n",
    "btn_save.pack()\n",
    "\n",
    "root.mainloop()"
   ]
  },
  {
   "cell_type": "code",
   "execution_count": null,
   "metadata": {},
   "outputs": [],
   "source": []
  },
  {
   "cell_type": "code",
   "execution_count": null,
   "metadata": {},
   "outputs": [],
   "source": []
  },
  {
   "cell_type": "code",
   "execution_count": null,
   "metadata": {},
   "outputs": [],
   "source": []
  },
  {
   "cell_type": "code",
   "execution_count": null,
   "metadata": {},
   "outputs": [],
   "source": []
  }
 ],
 "metadata": {
  "kernelspec": {
   "display_name": "Python 3",
   "language": "python",
   "name": "python3"
  },
  "language_info": {
   "codemirror_mode": {
    "name": "ipython",
    "version": 3
   },
   "file_extension": ".py",
   "mimetype": "text/x-python",
   "name": "python",
   "nbconvert_exporter": "python",
   "pygments_lexer": "ipython3",
   "version": "3.6.4"
  }
 },
 "nbformat": 4,
 "nbformat_minor": 2
}
